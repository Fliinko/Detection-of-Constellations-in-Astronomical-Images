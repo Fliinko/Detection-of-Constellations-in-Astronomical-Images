{
 "cells": [
  {
   "cell_type": "code",
   "execution_count": 159,
   "metadata": {},
   "outputs": [],
   "source": [
    "import cv2\n",
    "import matplotlib.pyplot as plt\n",
    "import numpy as np\n",
    "import os\n",
    "import random\n",
    "from tqdm.notebook import tqdm"
   ]
  },
  {
   "cell_type": "code",
   "execution_count": 165,
   "metadata": {},
   "outputs": [
    {
     "data": {
      "application/vnd.jupyter.widget-view+json": {
       "model_id": "206713364290464fbd16098d886765df",
       "version_major": 2,
       "version_minor": 0
      },
      "text/plain": [
       "HBox(children=(HTML(value='Loading Raw Data'), FloatProgress(value=0.0, max=2.0), HTML(value='')))"
      ]
     },
     "metadata": {},
     "output_type": "display_data"
    },
    {
     "name": "stdout",
     "output_type": "stream",
     "text": [
      "\n"
     ]
    },
    {
     "data": {
      "application/vnd.jupyter.widget-view+json": {
       "model_id": "82621c0ea1a34bfa9f77f0eeb4ba425c",
       "version_major": 2,
       "version_minor": 0
      },
      "text/plain": [
       "HBox(children=(HTML(value='Loading Templates'), FloatProgress(value=0.0, max=2.0), HTML(value='')))"
      ]
     },
     "metadata": {},
     "output_type": "display_data"
    },
    {
     "name": "stdout",
     "output_type": "stream",
     "text": [
      "\n"
     ]
    }
   ],
   "source": [
    "#Class made to reduce the quality of given images, to create more images for a dataset\n",
    "\n",
    "#Storing the Images in the Subfolder as a List\n",
    "images = {}\n",
    "for image in tqdm(os.listdir(\"Images\"), desc = 'Loading Raw Data'):\n",
    "    \n",
    "    #Reading and Writing into List\n",
    "    images[image] = cv2.imread(\"Images/\" + image, 0)  \n",
    "    \n",
    "templates = {}\n",
    "for template in tqdm(os.listdir(\"Templates\"), desc = 'Loading Templates'):\n",
    "    \n",
    "    #Reading and Writing into List\n",
    "    templates[template] = cv2.imread(\"Templates/\" + template, 0)\n",
    "    \n",
    "preprocessed = {}\n",
    "for processed in preprocessed:\n",
    "    \n",
    "    preprocessed[processed] = cv2.imread(\"Output/\" + processed, 0)\n",
    "    "
   ]
  },
  {
   "cell_type": "code",
   "execution_count": 161,
   "metadata": {},
   "outputs": [],
   "source": [
    "#Thresholding the Image - Stars would remain to be white pixels \n",
    "def Otsu(images):\n",
    "        \n",
    "    blur = cv2.GaussianBlur(images,(5,5),0)\n",
    "    ret1,th1 = cv2.threshold(blur, 0, 255,cv2.THRESH_BINARY+cv2.THRESH_OTSU)\n",
    "\n",
    "    cv2.imwrite(\"Output/CancerOtsu.png\", th1, [cv2.IMWRITE_PNG_COMPRESSION, 0])"
   ]
  },
  {
   "cell_type": "code",
   "execution_count": 162,
   "metadata": {},
   "outputs": [],
   "source": [
    "def EdgeRecognition(images):\n",
    "  \n",
    "    edges = cv2.Canny(images,100,200)\n",
    "\n",
    "    cv2.imwrite(\"Output/CancerEdges.png\", edges, [cv2.IMWRITE_PNG_COMPRESSION, 0])"
   ]
  },
  {
   "cell_type": "markdown",
   "metadata": {},
   "source": [
    "Corner Recognition works but does not provide a fruitful result"
   ]
  },
  {
   "cell_type": "markdown",
   "metadata": {},
   "source": [
    "Hough Line Recognition"
   ]
  },
  {
   "cell_type": "code",
   "execution_count": 163,
   "metadata": {},
   "outputs": [],
   "source": [
    "def Templates(images):\n",
    "    \n",
    "    #Edge Recognition\n",
    "    edges = cv2.Canny(images,50,150,apertureSize = 3)\n",
    "    \n",
    "    #Line Recognition\n",
    "    minLineLength = 100\n",
    "    maxLineGap = 10\n",
    "    lines = cv2.HoughLinesP(edges,1,np.pi/180,100,minLineLength,maxLineGap)\n",
    "    \n",
    "    for x1,y1,x2,y2 in lines[0]:\n",
    "        cv2.line(images,(x1,y1),(x2,y2),(0,255,0),2)\n",
    "        \n",
    "    Otsu(images)\n",
    "\n",
    "    cv2.imwrite('Templates/Preprocessed/Cancer.png',images)"
   ]
  },
  {
   "cell_type": "code",
   "execution_count": 164,
   "metadata": {},
   "outputs": [],
   "source": [
    "def Preprocess(images):\n",
    "    \n",
    "    Otsu(images)\n",
    "    EdgeRecognition(images)"
   ]
  },
  {
   "cell_type": "code",
   "execution_count": 154,
   "metadata": {},
   "outputs": [],
   "source": [
    "def TemplateMatching(images, templates):\n",
    "    \n",
    "    w, h = templates.shape[::-1]\n",
    "\n",
    "    res = cv2.matchTemplate(images, templates, cv2.TM_CCOEFF_NORMED)\n",
    "    threshold = 0.8\n",
    "    loc = np.where( res >= threshold)\n",
    "    for pt in zip(*loc[::-1]):\n",
    "        cv2.rectangle(images, pt, (pt[0] + w, pt[1] + h), (0,0,255), 2)\n",
    "\n",
    "    cv2.imwrite('Templates/CancerMatch.png',images)\n",
    "    "
   ]
  },
  {
   "cell_type": "code",
   "execution_count": 167,
   "metadata": {},
   "outputs": [
    {
     "ename": "KeyError",
     "evalue": "'CancerEdges.png'",
     "output_type": "error",
     "traceback": [
      "\u001b[1;31m---------------------------------------------------------------------------\u001b[0m",
      "\u001b[1;31mKeyError\u001b[0m                                  Traceback (most recent call last)",
      "\u001b[1;32m<ipython-input-167-3a3156118da8>\u001b[0m in \u001b[0;36m<module>\u001b[1;34m\u001b[0m\n\u001b[0;32m      5\u001b[0m \u001b[0mTemplates\u001b[0m\u001b[1;33m(\u001b[0m\u001b[0mtemp\u001b[0m\u001b[1;33m)\u001b[0m\u001b[1;33m\u001b[0m\u001b[1;33m\u001b[0m\u001b[0m\n\u001b[0;32m      6\u001b[0m \u001b[1;33m\u001b[0m\u001b[0m\n\u001b[1;32m----> 7\u001b[1;33m \u001b[0mpro\u001b[0m \u001b[1;33m=\u001b[0m \u001b[0mpreprocessed\u001b[0m\u001b[1;33m[\u001b[0m\u001b[1;34m\"CancerEdges.png\"\u001b[0m\u001b[1;33m]\u001b[0m\u001b[1;33m\u001b[0m\u001b[1;33m\u001b[0m\u001b[0m\n\u001b[0m\u001b[0;32m      8\u001b[0m \u001b[1;33m\u001b[0m\u001b[0m\n\u001b[0;32m      9\u001b[0m \u001b[0mTemplateMatching\u001b[0m\u001b[1;33m(\u001b[0m\u001b[0mpro\u001b[0m\u001b[1;33m,\u001b[0m \u001b[0mtemp\u001b[0m\u001b[1;33m)\u001b[0m\u001b[1;33m\u001b[0m\u001b[1;33m\u001b[0m\u001b[0m\n",
      "\u001b[1;31mKeyError\u001b[0m: 'CancerEdges.png'"
     ]
    }
   ],
   "source": [
    "image = images[\"1.png\"].copy()\n",
    "temp = templates[\"Cancer.png\"].copy()\n",
    "\n",
    "Preprocess(image)\n",
    "Templates(temp)\n",
    "\n",
    "pro = preprocessed[\"CancerEdges.png\"]\n",
    "\n",
    "TemplateMatching(pro, temp)"
   ]
  },
  {
   "cell_type": "code",
   "execution_count": null,
   "metadata": {},
   "outputs": [],
   "source": []
  }
 ],
 "metadata": {
  "kernelspec": {
   "display_name": "Python 3",
   "language": "python",
   "name": "python3"
  },
  "language_info": {
   "codemirror_mode": {
    "name": "ipython",
    "version": 3
   },
   "file_extension": ".py",
   "mimetype": "text/x-python",
   "name": "python",
   "nbconvert_exporter": "python",
   "pygments_lexer": "ipython3",
   "version": "3.8.5"
  }
 },
 "nbformat": 4,
 "nbformat_minor": 4
}
